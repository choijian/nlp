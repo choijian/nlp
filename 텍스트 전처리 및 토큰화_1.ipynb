{
 "cells": [
  {
   "cell_type": "markdown",
   "id": "f4c5e58a",
   "metadata": {},
   "source": [
    "# 텍스트 전처리 및 토큰화 (1)"
   ]
  },
  {
   "cell_type": "markdown",
   "id": "5c4e90be",
   "metadata": {},
   "source": [
    "## 단어 토큰화(Word Tokenization)"
   ]
  },
  {
   "cell_type": "markdown",
   "id": "6b62d4ca",
   "metadata": {},
   "source": [
    "### Tokenizer 비교"
   ]
  },
  {
   "cell_type": "code",
   "execution_count": 1,
   "id": "eac89df5",
   "metadata": {},
   "outputs": [],
   "source": [
    "sentence = \"Mr. Jone's house isn't far from here, New York.\""
   ]
  },
  {
   "cell_type": "markdown",
   "id": "108d879c",
   "metadata": {},
   "source": [
    "#### 띄어쓰기로 토큰화"
   ]
  },
  {
   "cell_type": "code",
   "execution_count": 2,
   "id": "0754f312",
   "metadata": {},
   "outputs": [
    {
     "data": {
      "text/plain": [
       "['Mr.', \"Jone's\", 'house', \"isn't\", 'far', 'from', 'here,', 'New', 'York.']"
      ]
     },
     "execution_count": 2,
     "metadata": {},
     "output_type": "execute_result"
    }
   ],
   "source": [
    "sentence.split()"
   ]
  },
  {
   "cell_type": "markdown",
   "id": "62e78bec",
   "metadata": {},
   "source": [
    "## NLTK word_tokenize"
   ]
  },
  {
   "cell_type": "code",
   "execution_count": 5,
   "id": "55720225",
   "metadata": {},
   "outputs": [
    {
     "name": "stderr",
     "output_type": "stream",
     "text": [
      "[nltk_data] Downloading package punkt to\n",
      "[nltk_data]     C:\\Users\\user\\AppData\\Roaming\\nltk_data...\n",
      "[nltk_data]   Unzipping tokenizers\\punkt.zip.\n",
      "[nltk_data] Downloading package averaged_perceptron_tagger to\n",
      "[nltk_data]     C:\\Users\\user\\AppData\\Roaming\\nltk_data...\n",
      "[nltk_data]   Unzipping taggers\\averaged_perceptron_tagger.zip.\n"
     ]
    },
    {
     "data": {
      "text/plain": [
       "True"
      ]
     },
     "execution_count": 5,
     "metadata": {},
     "output_type": "execute_result"
    }
   ],
   "source": [
    "import nltk\n",
    "nltk.download('punkt')\n",
    "nltk.download('averaged_perceptron_tagger')"
   ]
  },
  {
   "cell_type": "code",
   "execution_count": 6,
   "id": "1908f6c0",
   "metadata": {},
   "outputs": [
    {
     "name": "stdout",
     "output_type": "stream",
     "text": [
      "['Mr.', 'Jone', \"'s\", 'house', 'is', \"n't\", 'far', 'from', 'here', ',', 'New', 'York', '.']\n"
     ]
    }
   ],
   "source": [
    "from nltk.tokenize import word_tokenize\n",
    "print(word_tokenize(sentence))"
   ]
  },
  {
   "cell_type": "markdown",
   "id": "64580444",
   "metadata": {},
   "source": [
    "## NLTK ```WordPunctTokenizer```"
   ]
  },
  {
   "cell_type": "markdown",
   "id": "0d78cc49",
   "metadata": {},
   "source": [
    "#### 알파벳 or 알파벳이 아닌 문자로 구성된 문자열에서 토큰 반환"
   ]
  },
  {
   "cell_type": "code",
   "execution_count": 8,
   "id": "8d7812df",
   "metadata": {},
   "outputs": [
    {
     "name": "stdout",
     "output_type": "stream",
     "text": [
      "['Mr', '.', 'Jone', \"'\", 's', 'house', 'isn', \"'\", 't', 'far', 'from', 'here', ',', 'New', 'York', '.']\n"
     ]
    }
   ],
   "source": [
    "from nltk.tokenize import WordPunctTokenizer\n",
    "print(WordPunctTokenizer().tokenize(sentence))"
   ]
  },
  {
   "cell_type": "markdown",
   "id": "64d079df",
   "metadata": {},
   "source": [
    "## NLTK ```TreebankWordTokenizer```"
   ]
  },
  {
   "cell_type": "markdown",
   "id": "78d1e65e",
   "metadata": {},
   "source": [
    "#### 정규식을 사용하여 토큰 반환, 뒤에 공백이 있는 경우에만 쉼표, 따음표 분리"
   ]
  },
  {
   "cell_type": "code",
   "execution_count": null,
   "id": "efc6f514",
   "metadata": {},
   "outputs": [],
   "source": []
  }
 ],
 "metadata": {
  "kernelspec": {
   "display_name": "NLP",
   "language": "python",
   "name": "nlp"
  },
  "language_info": {
   "codemirror_mode": {
    "name": "ipython",
    "version": 3
   },
   "file_extension": ".py",
   "mimetype": "text/x-python",
   "name": "python",
   "nbconvert_exporter": "python",
   "pygments_lexer": "ipython3",
   "version": "3.9.0"
  }
 },
 "nbformat": 4,
 "nbformat_minor": 5
}
